{
  "nbformat": 4,
  "nbformat_minor": 0,
  "metadata": {
    "colab": {
      "provenance": []
    },
    "kernelspec": {
      "name": "python3",
      "display_name": "Python 3"
    },
    "language_info": {
      "name": "python"
    }
  },
  "cells": [
    {
      "cell_type": "code",
      "execution_count": null,
      "metadata": {
        "id": "UIWeCZu3mvdG"
      },
      "outputs": [],
      "source": [
        "import pandas as pd\n",
        "\n",
        "# Load the dataset\n",
        "data = pd.read_csv(\"/content/drive/MyDrive/Mall_CustomersData_q3_dataset.csv\")\n",
        "\n",
        "# Extract the relevant columns for clustering\n",
        "X = data.iloc[:, 3:].values  # Assuming you have numeric features starting from column 4\n"
      ]
    },
    {
      "cell_type": "code",
      "source": [
        "from sklearn.preprocessing import MinMaxScaler\n",
        "\n",
        "scaler = MinMaxScaler()\n",
        "X = scaler.fit_transform(X)\n"
      ],
      "metadata": {
        "id": "eJjifaSUmxHf"
      },
      "execution_count": null,
      "outputs": []
    },
    {
      "cell_type": "code",
      "source": [
        "from minisom import MiniSom\n",
        "\n",
        "# Define the SOM dimensions (e.g., 10x10 grid)\n",
        "som = MiniSom(x=10, y=10, input_len=X.shape[1], sigma=1.0, learning_rate=0.5)\n",
        "\n",
        "# Initialize the SOM weights\n",
        "som.random_weights_init(X)\n",
        "\n",
        "# Train the SOM for a specified number of epochs\n",
        "som.train_random(data=X, num_iteration=100)\n"
      ],
      "metadata": {
        "id": "PHjcXpkVmxKO"
      },
      "execution_count": null,
      "outputs": []
    },
    {
      "cell_type": "code",
      "source": [
        "!pip install minisom"
      ],
      "metadata": {
        "id": "DCZqEM5WhRV2"
      },
      "execution_count": null,
      "outputs": []
    },
    {
      "cell_type": "code",
      "source": [
        "import numpy as np\n",
        "import matplotlib.pyplot as plt\n",
        "\n",
        "u_matrix = som.distance_map()\n",
        "plt.imshow(u_matrix, cmap='viridis')\n",
        "plt.colorbar()\n",
        "plt.show()\n"
      ],
      "metadata": {
        "colab": {
          "base_uri": "https://localhost:8080/",
          "height": 435
        },
        "id": "za7UaM4imxNG",
        "outputId": "9183f2f1-29e9-41d2-b242-6218d825b055"
      },
      "execution_count": null,
      "outputs": [
        {
          "output_type": "display_data",
          "data": {
            "text/plain": [
              "<Figure size 640x480 with 2 Axes>"
            ],
            "image/png": "[encoded data removed]"
          },
          "metadata": {}
        }
      ]
    },
    {
      "cell_type": "code",
      "source": [
        "bmu_indexes = np.array([som.winner(x) for x in X])\n",
        "# You can then use the BMU indexes to label and analyze your clusters.\n",
        "\n"
      ],
      "metadata": {
        "id": "lSXqV_U0mxRG",
        "colab": {
          "base_uri": "https://localhost:8080/",
          "height": 1000
        },
        "outputId": "520bcd4f-19c9-48d7-b5e5-be3f060ec658"
      },
      "execution_count": null,
      "outputs": [
        {
          "output_type": "display_data",
          "data": {
            "text/plain": [
              "<Figure size 640x480 with 2 Axes>"
            ],
            "image/png": "[encoded data removed]"
          },
          "metadata": {}
        },
        {
          "output_type": "stream",
          "name": "stdout",
          "text": [
            "[[8 6]\n",
            " [8 4]\n",
            " [8 0]\n",
            " [8 4]\n",
            " [8 6]\n",
            " [6 1]\n",
            " [8 0]\n",
            " [5 2]\n",
            " [8 0]\n",
            " [6 1]\n",
            " [8 0]\n",
            " [5 2]\n",
            " [8 0]\n",
            " [6 3]\n",
            " [8 0]\n",
            " [6 3]\n",
            " [5 0]\n",
            " [2 1]\n",
            " [5 0]\n",
            " [5 2]\n",
            " [5 0]\n",
            " [2 1]\n",
            " [8 0]\n",
            " [2 1]\n",
            " [8 0]\n",
            " [0 2]\n",
            " [5 0]\n",
            " [6 0]\n",
            " [5 0]\n",
            " [5 2]\n",
            " [8 0]\n",
            " [9 9]\n",
            " [8 0]\n",
            " [5 2]\n",
            " [8 0]\n",
            " [0 2]\n",
            " [9 0]\n",
            " [4 1]\n",
            " [9 0]\n",
            " [4 1]\n",
            " [2 8]\n",
            " [5 2]\n",
            " [2 8]\n",
            " [2 0]\n",
            " [9 0]\n",
            " [6 2]\n",
            " [4 0]\n",
            " [1 4]\n",
            " [9 8]\n",
            " [9 8]\n",
            " [1 3]\n",
            " [6 5]\n",
            " [4 0]\n",
            " [6 5]\n",
            " [1 4]\n",
            " [7 1]\n",
            " [1 3]\n",
            " [1 4]\n",
            " [3 4]\n",
            " [3 8]\n",
            " [5 5]\n",
            " [5 5]\n",
            " [6 4]\n",
            " [1 1]\n",
            " [1 7]\n",
            " [7 8]\n",
            " [0 9]\n",
            " [6 9]\n",
            " [7 8]\n",
            " [3 8]\n",
            " [5 5]\n",
            " [1 9]\n",
            " [9 6]\n",
            " [5 5]\n",
            " [4 7]\n",
            " [2 6]\n",
            " [2 6]\n",
            " [1 8]\n",
            " [4 3]\n",
            " [7 0]\n",
            " [1 5]\n",
            " [6 8]\n",
            " [7 0]\n",
            " [0 5]\n",
            " [5 4]\n",
            " [1 6]\n",
            " [5 4]\n",
            " [6 8]\n",
            " [3 5]\n",
            " [2 9]\n",
            " [9 3]\n",
            " [8 2]\n",
            " [9 4]\n",
            " [8 2]\n",
            " [8 2]\n",
            " [0 7]\n",
            " [4 5]\n",
            " [0 7]\n",
            " [8 2]\n",
            " [9 4]\n",
            " [8 2]\n",
            " [9 4]\n",
            " [3 5]\n",
            " [9 3]\n",
            " [9 3]\n",
            " [8 2]\n",
            " [0 7]\n",
            " [4 5]\n",
            " [6 6]\n",
            " [9 4]\n",
            " [9 3]\n",
            " [9 3]\n",
            " [6 6]\n",
            " [4 5]\n",
            " [4 5]\n",
            " [0 7]\n",
            " [6 6]\n",
            " [0 8]\n",
            " [6 6]\n",
            " [0 8]\n",
            " [0 8]\n",
            " [6 6]\n",
            " [0 8]\n",
            " [7 3]\n",
            " [0 6]\n",
            " [4 6]\n",
            " [2 5]\n",
            " [7 3]\n",
            " [8 7]\n",
            " [4 6]\n",
            " [8 7]\n",
            " [4 6]\n",
            " [0 6]\n",
            " [5 9]\n",
            " [0 0]\n",
            " [7 3]\n",
            " [8 7]\n",
            " [4 6]\n",
            " [8 7]\n",
            " [7 4]\n",
            " [0 0]\n",
            " [4 9]\n",
            " [3 2]\n",
            " [4 9]\n",
            " [7 5]\n",
            " [4 9]\n",
            " [3 2]\n",
            " [7 4]\n",
            " [8 7]\n",
            " [4 9]\n",
            " [8 7]\n",
            " [4 9]\n",
            " [8 7]\n",
            " [7 4]\n",
            " [7 5]\n",
            " [4 9]\n",
            " [0 0]\n",
            " [7 4]\n",
            " [0 0]\n",
            " [7 4]\n",
            " [3 2]\n",
            " [4 9]\n",
            " [0 0]\n",
            " [4 9]\n",
            " [7 6]\n",
            " [5 7]\n",
            " [7 5]\n",
            " [4 9]\n",
            " [7 6]\n",
            " [5 7]\n",
            " [0 0]\n",
            " [5 7]\n",
            " [0 0]\n",
            " [4 9]\n",
            " [0 0]\n",
            " [4 9]\n",
            " [0 0]\n",
            " [5 7]\n",
            " [9 7]\n",
            " [4 9]\n",
            " [1 0]\n",
            " [7 2]\n",
            " [9 7]\n",
            " [7 2]\n",
            " [7 7]\n",
            " [4 9]\n",
            " [1 0]\n",
            " [7 2]\n",
            " [9 7]\n",
            " [7 2]\n",
            " [1 0]\n",
            " [7 2]\n",
            " [9 7]\n",
            " [3 9]\n",
            " [9 7]\n",
            " [3 9]\n",
            " [1 0]\n",
            " [3 9]\n",
            " [1 0]\n",
            " [3 9]]\n"
          ]
        }
      ]
    }
  ]
}